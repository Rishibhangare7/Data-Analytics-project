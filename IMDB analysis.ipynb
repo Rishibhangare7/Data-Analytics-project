{
 "cells": [
  {
   "cell_type": "code",
   "execution_count": 1,
   "id": "5aa72b74",
   "metadata": {},
   "outputs": [],
   "source": [
    "import numpy as np \n",
    "import pandas as pd\n",
    "import seaborn as sns\n",
    "import os\n",
    "import matplotlib.pyplot as plt"
   ]
  },
  {
   "cell_type": "code",
   "execution_count": 2,
   "id": "64b79e9a",
   "metadata": {},
   "outputs": [
    {
     "data": {
      "text/plain": [
       "'C:\\\\Users\\\\Vinod Bhangare\\\\Downloads'"
      ]
     },
     "execution_count": 2,
     "metadata": {},
     "output_type": "execute_result"
    }
   ],
   "source": [
    "os.getcwd()"
   ]
  },
  {
   "cell_type": "code",
   "execution_count": null,
   "id": "cc797cfe",
   "metadata": {},
   "outputs": [],
   "source": []
  },
  {
   "cell_type": "code",
   "execution_count": 4,
   "id": "1fded61f",
   "metadata": {},
   "outputs": [],
   "source": [
    "df=pd.read_csv('C:\\\\Users\\\\Vinod Bhangare\\\\Downloads\\\\Copy of imdb_data.csv')"
   ]
  },
  {
   "cell_type": "code",
   "execution_count": 5,
   "id": "f6f751a6",
   "metadata": {},
   "outputs": [
    {
     "data": {
      "text/html": [
       "<div>\n",
       "<style scoped>\n",
       "    .dataframe tbody tr th:only-of-type {\n",
       "        vertical-align: middle;\n",
       "    }\n",
       "\n",
       "    .dataframe tbody tr th {\n",
       "        vertical-align: top;\n",
       "    }\n",
       "\n",
       "    .dataframe thead th {\n",
       "        text-align: right;\n",
       "    }\n",
       "</style>\n",
       "<table border=\"1\" class=\"dataframe\">\n",
       "  <thead>\n",
       "    <tr style=\"text-align: right;\">\n",
       "      <th></th>\n",
       "      <th>id</th>\n",
       "      <th>belongs_to_collection</th>\n",
       "      <th>budget</th>\n",
       "      <th>genres</th>\n",
       "      <th>homepage</th>\n",
       "      <th>imdb_id</th>\n",
       "      <th>original_language</th>\n",
       "      <th>original_title</th>\n",
       "      <th>overview</th>\n",
       "      <th>popularity</th>\n",
       "      <th>...</th>\n",
       "      <th>release_date</th>\n",
       "      <th>runtime</th>\n",
       "      <th>spoken_languages</th>\n",
       "      <th>status</th>\n",
       "      <th>tagline</th>\n",
       "      <th>title</th>\n",
       "      <th>Keywords</th>\n",
       "      <th>cast</th>\n",
       "      <th>crew</th>\n",
       "      <th>revenue</th>\n",
       "    </tr>\n",
       "  </thead>\n",
       "  <tbody>\n",
       "    <tr>\n",
       "      <th>0</th>\n",
       "      <td>1</td>\n",
       "      <td>[{'id': 313576, 'name': 'Hot Tub Time Machine ...</td>\n",
       "      <td>14000000</td>\n",
       "      <td>[{'id': 35, 'name': 'Comedy'}]</td>\n",
       "      <td>NaN</td>\n",
       "      <td>tt2637294</td>\n",
       "      <td>en</td>\n",
       "      <td>Hot Tub Time Machine 2</td>\n",
       "      <td>When Lou, who has become the \"father of the In...</td>\n",
       "      <td>6.575393</td>\n",
       "      <td>...</td>\n",
       "      <td>2/20/15</td>\n",
       "      <td>93.0</td>\n",
       "      <td>[{'iso_639_1': 'en', 'name': 'English'}]</td>\n",
       "      <td>Released</td>\n",
       "      <td>The Laws of Space and Time are About to be Vio...</td>\n",
       "      <td>Hot Tub Time Machine 2</td>\n",
       "      <td>[{'id': 4379, 'name': 'time travel'}, {'id': 9...</td>\n",
       "      <td>[{'cast_id': 4, 'character': 'Lou', 'credit_id...</td>\n",
       "      <td>[{'credit_id': '59ac067c92514107af02c8c8', 'de...</td>\n",
       "      <td>12314651</td>\n",
       "    </tr>\n",
       "    <tr>\n",
       "      <th>1</th>\n",
       "      <td>2</td>\n",
       "      <td>[{'id': 107674, 'name': 'The Princess Diaries ...</td>\n",
       "      <td>40000000</td>\n",
       "      <td>[{'id': 35, 'name': 'Comedy'}, {'id': 18, 'nam...</td>\n",
       "      <td>NaN</td>\n",
       "      <td>tt0368933</td>\n",
       "      <td>en</td>\n",
       "      <td>The Princess Diaries 2: Royal Engagement</td>\n",
       "      <td>Mia Thermopolis is now a college graduate and ...</td>\n",
       "      <td>8.248895</td>\n",
       "      <td>...</td>\n",
       "      <td>8/6/04</td>\n",
       "      <td>113.0</td>\n",
       "      <td>[{'iso_639_1': 'en', 'name': 'English'}]</td>\n",
       "      <td>Released</td>\n",
       "      <td>It can take a lifetime to find true love; she'...</td>\n",
       "      <td>The Princess Diaries 2: Royal Engagement</td>\n",
       "      <td>[{'id': 2505, 'name': 'coronation'}, {'id': 42...</td>\n",
       "      <td>[{'cast_id': 1, 'character': 'Mia Thermopolis'...</td>\n",
       "      <td>[{'credit_id': '52fe43fe9251416c7502563d', 'de...</td>\n",
       "      <td>95149435</td>\n",
       "    </tr>\n",
       "    <tr>\n",
       "      <th>2</th>\n",
       "      <td>3</td>\n",
       "      <td>NaN</td>\n",
       "      <td>3300000</td>\n",
       "      <td>[{'id': 18, 'name': 'Drama'}]</td>\n",
       "      <td>http://sonyclassics.com/whiplash/</td>\n",
       "      <td>tt2582802</td>\n",
       "      <td>en</td>\n",
       "      <td>Whiplash</td>\n",
       "      <td>Under the direction of a ruthless instructor, ...</td>\n",
       "      <td>64.299990</td>\n",
       "      <td>...</td>\n",
       "      <td>10/10/14</td>\n",
       "      <td>105.0</td>\n",
       "      <td>[{'iso_639_1': 'en', 'name': 'English'}]</td>\n",
       "      <td>Released</td>\n",
       "      <td>The road to greatness can take you to the edge.</td>\n",
       "      <td>Whiplash</td>\n",
       "      <td>[{'id': 1416, 'name': 'jazz'}, {'id': 1523, 'n...</td>\n",
       "      <td>[{'cast_id': 5, 'character': 'Andrew Neimann',...</td>\n",
       "      <td>[{'credit_id': '54d5356ec3a3683ba0000039', 'de...</td>\n",
       "      <td>13092000</td>\n",
       "    </tr>\n",
       "    <tr>\n",
       "      <th>3</th>\n",
       "      <td>4</td>\n",
       "      <td>NaN</td>\n",
       "      <td>1200000</td>\n",
       "      <td>[{'id': 53, 'name': 'Thriller'}, {'id': 18, 'n...</td>\n",
       "      <td>http://kahaanithefilm.com/</td>\n",
       "      <td>tt1821480</td>\n",
       "      <td>hi</td>\n",
       "      <td>Kahaani</td>\n",
       "      <td>Vidya Bagchi (Vidya Balan) arrives in Kolkata ...</td>\n",
       "      <td>3.174936</td>\n",
       "      <td>...</td>\n",
       "      <td>3/9/12</td>\n",
       "      <td>122.0</td>\n",
       "      <td>[{'iso_639_1': 'en', 'name': 'English'}, {'iso...</td>\n",
       "      <td>Released</td>\n",
       "      <td>NaN</td>\n",
       "      <td>Kahaani</td>\n",
       "      <td>[{'id': 10092, 'name': 'mystery'}, {'id': 1054...</td>\n",
       "      <td>[{'cast_id': 1, 'character': 'Vidya Bagchi', '...</td>\n",
       "      <td>[{'credit_id': '52fe48779251416c9108d6eb', 'de...</td>\n",
       "      <td>16000000</td>\n",
       "    </tr>\n",
       "    <tr>\n",
       "      <th>4</th>\n",
       "      <td>5</td>\n",
       "      <td>NaN</td>\n",
       "      <td>0</td>\n",
       "      <td>[{'id': 28, 'name': 'Action'}, {'id': 53, 'nam...</td>\n",
       "      <td>NaN</td>\n",
       "      <td>tt1380152</td>\n",
       "      <td>ko</td>\n",
       "      <td>마린보이</td>\n",
       "      <td>Marine Boy is the story of a former national s...</td>\n",
       "      <td>1.148070</td>\n",
       "      <td>...</td>\n",
       "      <td>2/5/09</td>\n",
       "      <td>118.0</td>\n",
       "      <td>[{'iso_639_1': 'ko', 'name': '한국어/조선말'}]</td>\n",
       "      <td>Released</td>\n",
       "      <td>NaN</td>\n",
       "      <td>Marine Boy</td>\n",
       "      <td>NaN</td>\n",
       "      <td>[{'cast_id': 3, 'character': 'Chun-soo', 'cred...</td>\n",
       "      <td>[{'credit_id': '52fe464b9251416c75073b43', 'de...</td>\n",
       "      <td>3923970</td>\n",
       "    </tr>\n",
       "  </tbody>\n",
       "</table>\n",
       "<p>5 rows × 23 columns</p>\n",
       "</div>"
      ],
      "text/plain": [
       "   id                              belongs_to_collection    budget  \\\n",
       "0   1  [{'id': 313576, 'name': 'Hot Tub Time Machine ...  14000000   \n",
       "1   2  [{'id': 107674, 'name': 'The Princess Diaries ...  40000000   \n",
       "2   3                                                NaN   3300000   \n",
       "3   4                                                NaN   1200000   \n",
       "4   5                                                NaN         0   \n",
       "\n",
       "                                              genres  \\\n",
       "0                     [{'id': 35, 'name': 'Comedy'}]   \n",
       "1  [{'id': 35, 'name': 'Comedy'}, {'id': 18, 'nam...   \n",
       "2                      [{'id': 18, 'name': 'Drama'}]   \n",
       "3  [{'id': 53, 'name': 'Thriller'}, {'id': 18, 'n...   \n",
       "4  [{'id': 28, 'name': 'Action'}, {'id': 53, 'nam...   \n",
       "\n",
       "                            homepage    imdb_id original_language  \\\n",
       "0                                NaN  tt2637294                en   \n",
       "1                                NaN  tt0368933                en   \n",
       "2  http://sonyclassics.com/whiplash/  tt2582802                en   \n",
       "3         http://kahaanithefilm.com/  tt1821480                hi   \n",
       "4                                NaN  tt1380152                ko   \n",
       "\n",
       "                             original_title  \\\n",
       "0                    Hot Tub Time Machine 2   \n",
       "1  The Princess Diaries 2: Royal Engagement   \n",
       "2                                  Whiplash   \n",
       "3                                   Kahaani   \n",
       "4                                      마린보이   \n",
       "\n",
       "                                            overview  popularity  ...  \\\n",
       "0  When Lou, who has become the \"father of the In...    6.575393  ...   \n",
       "1  Mia Thermopolis is now a college graduate and ...    8.248895  ...   \n",
       "2  Under the direction of a ruthless instructor, ...   64.299990  ...   \n",
       "3  Vidya Bagchi (Vidya Balan) arrives in Kolkata ...    3.174936  ...   \n",
       "4  Marine Boy is the story of a former national s...    1.148070  ...   \n",
       "\n",
       "  release_date runtime                                   spoken_languages  \\\n",
       "0      2/20/15    93.0           [{'iso_639_1': 'en', 'name': 'English'}]   \n",
       "1       8/6/04   113.0           [{'iso_639_1': 'en', 'name': 'English'}]   \n",
       "2     10/10/14   105.0           [{'iso_639_1': 'en', 'name': 'English'}]   \n",
       "3       3/9/12   122.0  [{'iso_639_1': 'en', 'name': 'English'}, {'iso...   \n",
       "4       2/5/09   118.0           [{'iso_639_1': 'ko', 'name': '한국어/조선말'}]   \n",
       "\n",
       "     status                                            tagline  \\\n",
       "0  Released  The Laws of Space and Time are About to be Vio...   \n",
       "1  Released  It can take a lifetime to find true love; she'...   \n",
       "2  Released    The road to greatness can take you to the edge.   \n",
       "3  Released                                                NaN   \n",
       "4  Released                                                NaN   \n",
       "\n",
       "                                      title  \\\n",
       "0                    Hot Tub Time Machine 2   \n",
       "1  The Princess Diaries 2: Royal Engagement   \n",
       "2                                  Whiplash   \n",
       "3                                   Kahaani   \n",
       "4                                Marine Boy   \n",
       "\n",
       "                                            Keywords  \\\n",
       "0  [{'id': 4379, 'name': 'time travel'}, {'id': 9...   \n",
       "1  [{'id': 2505, 'name': 'coronation'}, {'id': 42...   \n",
       "2  [{'id': 1416, 'name': 'jazz'}, {'id': 1523, 'n...   \n",
       "3  [{'id': 10092, 'name': 'mystery'}, {'id': 1054...   \n",
       "4                                                NaN   \n",
       "\n",
       "                                                cast  \\\n",
       "0  [{'cast_id': 4, 'character': 'Lou', 'credit_id...   \n",
       "1  [{'cast_id': 1, 'character': 'Mia Thermopolis'...   \n",
       "2  [{'cast_id': 5, 'character': 'Andrew Neimann',...   \n",
       "3  [{'cast_id': 1, 'character': 'Vidya Bagchi', '...   \n",
       "4  [{'cast_id': 3, 'character': 'Chun-soo', 'cred...   \n",
       "\n",
       "                                                crew   revenue  \n",
       "0  [{'credit_id': '59ac067c92514107af02c8c8', 'de...  12314651  \n",
       "1  [{'credit_id': '52fe43fe9251416c7502563d', 'de...  95149435  \n",
       "2  [{'credit_id': '54d5356ec3a3683ba0000039', 'de...  13092000  \n",
       "3  [{'credit_id': '52fe48779251416c9108d6eb', 'de...  16000000  \n",
       "4  [{'credit_id': '52fe464b9251416c75073b43', 'de...   3923970  \n",
       "\n",
       "[5 rows x 23 columns]"
      ]
     },
     "execution_count": 5,
     "metadata": {},
     "output_type": "execute_result"
    }
   ],
   "source": [
    "df.head()"
   ]
  },
  {
   "cell_type": "code",
   "execution_count": 6,
   "id": "4ac55c7b",
   "metadata": {},
   "outputs": [
    {
     "data": {
      "text/plain": [
       "Index(['id', 'belongs_to_collection', 'budget', 'genres', 'homepage',\n",
       "       'imdb_id', 'original_language', 'original_title', 'overview',\n",
       "       'popularity', 'poster_path', 'production_companies',\n",
       "       'production_countries', 'release_date', 'runtime', 'spoken_languages',\n",
       "       'status', 'tagline', 'title', 'Keywords', 'cast', 'crew', 'revenue'],\n",
       "      dtype='object')"
      ]
     },
     "execution_count": 6,
     "metadata": {},
     "output_type": "execute_result"
    }
   ],
   "source": [
    "df.columns"
   ]
  },
  {
   "cell_type": "code",
   "execution_count": 7,
   "id": "e631f51a",
   "metadata": {},
   "outputs": [],
   "source": [
    "#genres,crew,cast are in dictionary which is inside a list which is in string format. We have to evaluate it first.\n",
    "#Let's create function for evaluating it.\n",
    "\n",
    "def evaluate(string):\n",
    "    return eval(string)"
   ]
  },
  {
   "cell_type": "markdown",
   "id": "2d7f340b",
   "metadata": {},
   "source": [
    "# 1. Create a list of unique genres."
   ]
  },
  {
   "cell_type": "code",
   "execution_count": 8,
   "id": "81e5db35",
   "metadata": {},
   "outputs": [],
   "source": [
    "#Now genres may contain null values therefore we have to eliminate it first.\n",
    "#Let's create a new dataframe named genres in which we'll evaluate genres expelling the null values.\n",
    "\n",
    "genres_df=df[~df['genres'].isna()]\n"
   ]
  },
  {
   "cell_type": "code",
   "execution_count": 9,
   "id": "bf773952",
   "metadata": {},
   "outputs": [
    {
     "name": "stderr",
     "output_type": "stream",
     "text": [
      "<ipython-input-9-74fa6ece97af>:2: SettingWithCopyWarning: \n",
      "A value is trying to be set on a copy of a slice from a DataFrame.\n",
      "Try using .loc[row_indexer,col_indexer] = value instead\n",
      "\n",
      "See the caveats in the documentation: https://pandas.pydata.org/pandas-docs/stable/user_guide/indexing.html#returning-a-view-versus-a-copy\n",
      "  genres_df['genres']=genres_df['genres'].apply(evaluate)\n"
     ]
    }
   ],
   "source": [
    "#Now let's evaluate the genres\n",
    "genres_df['genres']=genres_df['genres'].apply(evaluate)"
   ]
  },
  {
   "cell_type": "code",
   "execution_count": 10,
   "id": "46846596",
   "metadata": {},
   "outputs": [
    {
     "data": {
      "text/plain": [
       "['Animation',\n",
       " 'Comedy',\n",
       " 'Adventure',\n",
       " 'Science Fiction',\n",
       " 'War',\n",
       " 'Horror',\n",
       " 'Western',\n",
       " 'Family',\n",
       " 'Foreign',\n",
       " 'TV Movie',\n",
       " 'Mystery',\n",
       " 'Fantasy',\n",
       " 'Action',\n",
       " 'Crime',\n",
       " 'Romance',\n",
       " 'Music',\n",
       " 'Drama',\n",
       " 'Thriller',\n",
       " 'Documentary',\n",
       " 'History']"
      ]
     },
     "execution_count": 10,
     "metadata": {},
     "output_type": "execute_result"
    }
   ],
   "source": [
    "#Now gonna extract genres of every row in a list then gonna filter the unique ones with the help of set.\n",
    "genres_list=[]\n",
    "for index,row in genres_df.iterrows():\n",
    "    for x in genres_df.loc[index,'genres']:\n",
    "        genres_list.append(x['name'])\n",
    "genres_list1=list(set(genres_list))\n",
    "genres_list1"
   ]
  },
  {
   "cell_type": "code",
   "execution_count": 56,
   "id": "d4199601",
   "metadata": {},
   "outputs": [
    {
     "name": "stdout",
     "output_type": "stream",
     "text": [
      "The genres count are:\n"
     ]
    },
    {
     "data": {
      "text/plain": [
       "<seaborn.axisgrid.FacetGrid at 0x2863977bb20>"
      ]
     },
     "execution_count": 56,
     "metadata": {},
     "output_type": "execute_result"
    },
    {
     "data": {
      "image/png": "[encoded data removed]",
      "text/plain": [
       "<Figure size 1260x504 with 1 Axes>"
      ]
     },
     "metadata": {
      "needs_background": "light"
     },
     "output_type": "display_data"
    }
   ],
   "source": [
    "print(\"The genres count are:\")\n",
    "sns.displot(genres_list,height=7,aspect=2.5,)"
   ]
  },
  {
   "cell_type": "code",
   "execution_count": 57,
   "id": "48470a9c",
   "metadata": {},
   "outputs": [
    {
     "name": "stdout",
     "output_type": "stream",
     "text": [
      "Unique list of genres are :\n"
     ]
    },
    {
     "data": {
      "text/plain": [
       "['Animation',\n",
       " 'Comedy',\n",
       " 'Adventure',\n",
       " 'Science Fiction',\n",
       " 'War',\n",
       " 'Horror',\n",
       " 'Western',\n",
       " 'Family',\n",
       " 'Foreign',\n",
       " 'TV Movie',\n",
       " 'Mystery',\n",
       " 'Fantasy',\n",
       " 'Action',\n",
       " 'Crime',\n",
       " 'Romance',\n",
       " 'Music',\n",
       " 'Drama',\n",
       " 'Thriller',\n",
       " 'Documentary',\n",
       " 'History']"
      ]
     },
     "execution_count": 57,
     "metadata": {},
     "output_type": "execute_result"
    }
   ],
   "source": [
    "print(f'Unique list of genres are :')\n",
    "genres_list1"
   ]
  },
  {
   "cell_type": "code",
   "execution_count": 59,
   "id": "7b737cfa",
   "metadata": {},
   "outputs": [
    {
     "name": "stdout",
     "output_type": "stream",
     "text": [
      "The pie chart of the genres:\n"
     ]
    },
    {
     "data": {
      "text/plain": [
       "([<matplotlib.patches.Wedge at 0x286379e91f0>,\n",
       "  <matplotlib.patches.Wedge at 0x286379e9d60>,\n",
       "  <matplotlib.patches.Wedge at 0x286379e9e50>,\n",
       "  <matplotlib.patches.Wedge at 0x286379e0df0>,\n",
       "  <matplotlib.patches.Wedge at 0x28636231310>,\n",
       "  <matplotlib.patches.Wedge at 0x28633763340>,\n",
       "  <matplotlib.patches.Wedge at 0x28637a8ca00>,\n",
       "  <matplotlib.patches.Wedge at 0x28637a87370>,\n",
       "  <matplotlib.patches.Wedge at 0x28637a953d0>,\n",
       "  <matplotlib.patches.Wedge at 0x28637aa01f0>,\n",
       "  <matplotlib.patches.Wedge at 0x28637aa08b0>,\n",
       "  <matplotlib.patches.Wedge at 0x28637aa0bb0>,\n",
       "  <matplotlib.patches.Wedge at 0x28637ab19a0>,\n",
       "  <matplotlib.patches.Wedge at 0x28637af8dc0>,\n",
       "  <matplotlib.patches.Wedge at 0x286379f0190>,\n",
       "  <matplotlib.patches.Wedge at 0x286379f0130>,\n",
       "  <matplotlib.patches.Wedge at 0x28637b51310>,\n",
       "  <matplotlib.patches.Wedge at 0x28637b51d90>,\n",
       "  <matplotlib.patches.Wedge at 0x28637b51e20>,\n",
       "  <matplotlib.patches.Wedge at 0x28637b474f0>],\n",
       " [Text(1.0864571742518743, 0.1720779140872905, 'Animation'),\n",
       "  Text(0.980107173100488, 0.49938955659582074, 'Comedy'),\n",
       "  Text(0.7778174502021366, 0.777817468408268, 'Adventure'),\n",
       "  Text(0.4993895336547566, 0.9801071847895438, 'Science Fiction'),\n",
       "  Text(0.17207788865692514, 1.0864571782796482, 'War'),\n",
       "  Text(-0.17207793951765593, 1.0864571702240997, 'Horror'),\n",
       "  Text(-0.4993895795368845, 0.9801071614114315, 'Western'),\n",
       "  Text(-0.7778174866143992, 0.7778174319960044, 'Family'),\n",
       "  Text(-0.9801071964785992, 0.499389510713692, 'Foreign'),\n",
       "  Text(-1.0864571823074214, 0.1720778632265596, 'TV Movie'),\n",
       "  Text(-1.0864571661963245, -0.1720779649480212, 'Mystery'),\n",
       "  Text(-0.9801071497223744, -0.4993896024779483, 'Fantasy'),\n",
       "  Text(-0.7778174137898723, -0.7778175048205297, 'Action'),\n",
       "  Text(-0.49938948777262754, -0.980107208167654, 'Crime'),\n",
       "  Text(-0.17207783779619373, -1.0864571863351944, 'Romance'),\n",
       "  Text(0.17207799037838659, -1.0864571621685486, 'Music'),\n",
       "  Text(0.49938962541901183, -0.9801071380333168, 'Drama'),\n",
       "  Text(0.7778175230266597, -0.7778173955837396, 'Thriller'),\n",
       "  Text(0.9801072198567081, -0.49938946483156277, 'Documentary'),\n",
       "  Text(1.0864571903629665, -0.17207781236582825, 'History')])"
      ]
     },
     "execution_count": 59,
     "metadata": {},
     "output_type": "execute_result"
    },
    {
     "data": {
      "image/png": "[encoded data removed]",
      "text/plain": [
       "<Figure size 432x288 with 1 Axes>"
      ]
     },
     "metadata": {},
     "output_type": "display_data"
    }
   ],
   "source": [
    "print(\"The pie chart of the genres:\")\n",
    "data=[1,1,1,1,1,1,1,1,1,1,1,1,1,1,1,1,1,1,1,1]\n",
    "plt.pie(data,labels=genres_list1)"
   ]
  },
  {
   "cell_type": "markdown",
   "id": "60d8bdd1",
   "metadata": {},
   "source": [
    "# 2. Top 5 actors who acted in most number of films?"
   ]
  },
  {
   "cell_type": "code",
   "execution_count": 60,
   "id": "5ac68324",
   "metadata": {},
   "outputs": [],
   "source": [
    "#Gonna create new dataframe of cast without null values and gonna evaluate it first.\n",
    "cast_df=df[~df['cast'].isna()]"
   ]
  },
  {
   "cell_type": "code",
   "execution_count": 61,
   "id": "ba241722",
   "metadata": {},
   "outputs": [
    {
     "name": "stderr",
     "output_type": "stream",
     "text": [
      "<ipython-input-61-d4337516fe8f>:1: SettingWithCopyWarning: \n",
      "A value is trying to be set on a copy of a slice from a DataFrame.\n",
      "Try using .loc[row_indexer,col_indexer] = value instead\n",
      "\n",
      "See the caveats in the documentation: https://pandas.pydata.org/pandas-docs/stable/user_guide/indexing.html#returning-a-view-versus-a-copy\n",
      "  cast_df['cast']=cast_df.loc[::,'cast'].apply(evaluate)\n"
     ]
    }
   ],
   "source": [
    "cast_df['cast']=cast_df.loc[::,'cast'].apply(evaluate)"
   ]
  },
  {
   "cell_type": "code",
   "execution_count": 62,
   "id": "e52e03ea",
   "metadata": {},
   "outputs": [],
   "source": [
    "#Now gonna put all actors of every row in a list named actors_list\n",
    "actors_list=[]\n",
    "for index,row in cast_df.iterrows():\n",
    "    for x in cast_df.loc[index,'cast']:\n",
    "        actors_list.append(x['name'])"
   ]
  },
  {
   "cell_type": "code",
   "execution_count": 63,
   "id": "6e4860e6",
   "metadata": {},
   "outputs": [],
   "source": [
    "#To find out which actor acted in how many films we'll create a data frame and gonna run value count.\n",
    "actors_df=pd.DataFrame(actors_list,columns=['Actors'])"
   ]
  },
  {
   "cell_type": "code",
   "execution_count": 64,
   "id": "9a12e973",
   "metadata": {},
   "outputs": [
    {
     "name": "stdout",
     "output_type": "stream",
     "text": [
      "The top 5 actors which acted in most number of movies are :\n"
     ]
    },
    {
     "data": {
      "text/plain": [
       "Actors           \n",
       "Samuel L. Jackson    30\n",
       "Robert De Niro       30\n",
       "Morgan Freeman       27\n",
       "Liam Neeson          25\n",
       "Susan Sarandon       25\n",
       "dtype: int64"
      ]
     },
     "execution_count": 64,
     "metadata": {},
     "output_type": "execute_result"
    }
   ],
   "source": [
    "print('The top 5 actors which acted in most number of movies are :')\n",
    "actors_df.value_counts()[0:5]"
   ]
  },
  {
   "cell_type": "code",
   "execution_count": 72,
   "id": "20220960",
   "metadata": {},
   "outputs": [],
   "source": [
    "top_5_actors=pd.DataFrame(actors_df.value_counts()[0:5]).reset_index().rename(columns={0:'Movies'})"
   ]
  },
  {
   "cell_type": "code",
   "execution_count": 82,
   "id": "bb06990b",
   "metadata": {},
   "outputs": [
    {
     "name": "stdout",
     "output_type": "stream",
     "text": [
      "Barplot for the 5 actors with most number of movies:\n"
     ]
    },
    {
     "data": {
      "text/plain": [
       "<AxesSubplot:xlabel='Actors', ylabel='Movies'>"
      ]
     },
     "execution_count": 82,
     "metadata": {},
     "output_type": "execute_result"
    },
    {
     "data": {
      "image/png": "[encoded data removed]",
      "text/plain": [
       "<Figure size 720x360 with 1 Axes>"
      ]
     },
     "metadata": {
      "needs_background": "light"
     },
     "output_type": "display_data"
    }
   ],
   "source": [
    "print('Barplot for the 5 actors with most number of movies:')\n",
    "plt.figure(figsize=(10,5))\n",
    "plt.ylim(0,40)\n",
    "sns.barplot(x=top_5_actors['Actors'],y=top_5_actors['Movies'],data=top_5_actors)"
   ]
  },
  {
   "cell_type": "markdown",
   "id": "c514a764",
   "metadata": {},
   "source": [
    "# 3. Create columns of producer and director in the dataframe and the movie titles."
   ]
  },
  {
   "cell_type": "code",
   "execution_count": 31,
   "id": "9c349e67",
   "metadata": {},
   "outputs": [],
   "source": [
    "#Now gonna create a crew_df without null values to evaluate crew and to extract producers and directors.\n",
    "crew_df=df[~df['crew'].isna()]"
   ]
  },
  {
   "cell_type": "code",
   "execution_count": 32,
   "id": "886a0b74",
   "metadata": {},
   "outputs": [
    {
     "name": "stderr",
     "output_type": "stream",
     "text": [
      "<ipython-input-32-8dd2004b5667>:1: SettingWithCopyWarning: \n",
      "A value is trying to be set on a copy of a slice from a DataFrame.\n",
      "Try using .loc[row_indexer,col_indexer] = value instead\n",
      "\n",
      "See the caveats in the documentation: https://pandas.pydata.org/pandas-docs/stable/user_guide/indexing.html#returning-a-view-versus-a-copy\n",
      "  crew_df['crew']=np.vectorize(evaluate)(crew_df['crew'])\n"
     ]
    }
   ],
   "source": [
    "crew_df['crew']=np.vectorize(evaluate)(crew_df['crew'])"
   ]
  },
  {
   "cell_type": "code",
   "execution_count": 33,
   "id": "d17938f5",
   "metadata": {},
   "outputs": [],
   "source": [
    "def director_producer(row):\n",
    "    director_list=[]\n",
    "    producer_list=[]\n",
    "    try:\n",
    "        for x in row['crew']:\n",
    "            if x['job']=='Director':\n",
    "                director_list.append(x['name'])\n",
    "            if x['job']=='Producer':\n",
    "                producer_list.append(x['name'])\n",
    "        row['Director']=director_list\n",
    "        row['Producer']=producer_list\n",
    "        return row\n",
    "    except:\n",
    "        return None"
   ]
  },
  {
   "cell_type": "code",
   "execution_count": 34,
   "id": "1fa3654a",
   "metadata": {},
   "outputs": [
    {
     "name": "stderr",
     "output_type": "stream",
     "text": [
      "<ipython-input-33-564d2b0bdc41>:10: SettingWithCopyWarning: \n",
      "A value is trying to be set on a copy of a slice from a DataFrame\n",
      "\n",
      "See the caveats in the documentation: https://pandas.pydata.org/pandas-docs/stable/user_guide/indexing.html#returning-a-view-versus-a-copy\n",
      "  row['Director']=director_list\n",
      "C:\\Users\\Vinod Bhangare\\anaconda3\\lib\\site-packages\\pandas\\core\\indexing.py:692: SettingWithCopyWarning: \n",
      "A value is trying to be set on a copy of a slice from a DataFrame\n",
      "\n",
      "See the caveats in the documentation: https://pandas.pydata.org/pandas-docs/stable/user_guide/indexing.html#returning-a-view-versus-a-copy\n",
      "  iloc._setitem_with_indexer(indexer, value, self.name)\n",
      "<ipython-input-33-564d2b0bdc41>:11: SettingWithCopyWarning: \n",
      "A value is trying to be set on a copy of a slice from a DataFrame\n",
      "\n",
      "See the caveats in the documentation: https://pandas.pydata.org/pandas-docs/stable/user_guide/indexing.html#returning-a-view-versus-a-copy\n",
      "  row['Producer']=producer_list\n"
     ]
    },
    {
     "data": {
      "text/plain": [
       "id                                                                       1\n",
       "belongs_to_collection    [{'id': 313576, 'name': 'Hot Tub Time Machine ...\n",
       "budget                                                            14000000\n",
       "genres                                      [{'id': 35, 'name': 'Comedy'}]\n",
       "homepage                                                               NaN\n",
       "imdb_id                                                          tt2637294\n",
       "original_language                                                       en\n",
       "original_title                                      Hot Tub Time Machine 2\n",
       "overview                 When Lou, who has become the \"father of the In...\n",
       "popularity                                                        6.575393\n",
       "poster_path                               /tQtWuwvMf0hCc2QR2tkolwl7c3c.jpg\n",
       "production_companies     [{'name': 'Paramount Pictures', 'id': 4}, {'na...\n",
       "production_countries     [{'iso_3166_1': 'US', 'name': 'United States o...\n",
       "release_date                                                       2/20/15\n",
       "runtime                                                               93.0\n",
       "spoken_languages                  [{'iso_639_1': 'en', 'name': 'English'}]\n",
       "status                                                            Released\n",
       "tagline                  The Laws of Space and Time are About to be Vio...\n",
       "title                                               Hot Tub Time Machine 2\n",
       "Keywords                 [{'id': 4379, 'name': 'time travel'}, {'id': 9...\n",
       "cast                     [{'cast_id': 4, 'character': 'Lou', 'credit_id...\n",
       "crew                     [{'credit_id': '59ac067c92514107af02c8c8', 'de...\n",
       "revenue                                                           12314651\n",
       "Director                                                      [Steve Pink]\n",
       "Producer                                                    [Andrew Panay]\n",
       "Name: 0, dtype: object"
      ]
     },
     "execution_count": 34,
     "metadata": {},
     "output_type": "execute_result"
    }
   ],
   "source": [
    "#let's check the function we created for creating director and producer columns\n",
    "director_producer(crew_df.loc[0])"
   ]
  },
  {
   "cell_type": "code",
   "execution_count": 35,
   "id": "99f76380",
   "metadata": {},
   "outputs": [],
   "source": [
    "#Let's update the crew_df by applying the director and producer function"
   ]
  },
  {
   "cell_type": "code",
   "execution_count": 36,
   "id": "10d572fe",
   "metadata": {},
   "outputs": [],
   "source": [
    "crew_df=crew_df.apply(director_producer,axis=1)"
   ]
  },
  {
   "cell_type": "code",
   "execution_count": 37,
   "id": "bca7ac37",
   "metadata": {},
   "outputs": [
    {
     "data": {
      "text/plain": [
       "0            [Steve Pink]\n",
       "1        [Garry Marshall]\n",
       "2       [Damien Chazelle]\n",
       "3           [Sujoy Ghosh]\n",
       "4        [Jong-seok Yoon]\n",
       "              ...        \n",
       "2995      [Dennis Hopper]\n",
       "2996    [Lukas Moodysson]\n",
       "2997       [Renny Harlin]\n",
       "2998       [John Hamburg]\n",
       "2999     [John Singleton]\n",
       "Name: Director, Length: 2984, dtype: object"
      ]
     },
     "execution_count": 37,
     "metadata": {},
     "output_type": "execute_result"
    }
   ],
   "source": [
    "crew_df['Director']"
   ]
  },
  {
   "cell_type": "code",
   "execution_count": 38,
   "id": "7f12f755",
   "metadata": {},
   "outputs": [
    {
     "data": {
      "text/plain": [
       "0                                          [Andrew Panay]\n",
       "1       [Whitney Houston, Mario Iscovich, Debra Martin...\n",
       "2       [David Lancaster, Michel Litvak, Jason Blum, H...\n",
       "3                                           [Sujoy Ghosh]\n",
       "4                                                      []\n",
       "                              ...                        \n",
       "2995                                  [James G. Robinson]\n",
       "2996                                      [Lars J√∂nsson]\n",
       "2997    [Stephanie Austin, Shane Black, Renny Harlin, ...\n",
       "2998        [Danny DeVito, Michael Shamberg, Stacey Sher]\n",
       "2999    [Doug Davison, Roy Lee, Ellen Goldsmith-Vein, ...\n",
       "Name: Producer, Length: 2984, dtype: object"
      ]
     },
     "execution_count": 38,
     "metadata": {},
     "output_type": "execute_result"
    }
   ],
   "source": [
    "crew_df['Producer']"
   ]
  },
  {
   "cell_type": "code",
   "execution_count": 39,
   "id": "3765d688",
   "metadata": {},
   "outputs": [],
   "source": [
    "#Lets create a dataframe for columns movie,director,producer\n",
    "df_movie_director_producer=crew_df[['title','Director','Producer']].rename(columns={'title':'Movie'})"
   ]
  },
  {
   "cell_type": "code",
   "execution_count": 40,
   "id": "6ab7aed3",
   "metadata": {},
   "outputs": [
    {
     "data": {
      "text/html": [
       "<div>\n",
       "<style scoped>\n",
       "    .dataframe tbody tr th:only-of-type {\n",
       "        vertical-align: middle;\n",
       "    }\n",
       "\n",
       "    .dataframe tbody tr th {\n",
       "        vertical-align: top;\n",
       "    }\n",
       "\n",
       "    .dataframe thead th {\n",
       "        text-align: right;\n",
       "    }\n",
       "</style>\n",
       "<table border=\"1\" class=\"dataframe\">\n",
       "  <thead>\n",
       "    <tr style=\"text-align: right;\">\n",
       "      <th></th>\n",
       "      <th>Movie</th>\n",
       "      <th>Director</th>\n",
       "      <th>Producer</th>\n",
       "    </tr>\n",
       "  </thead>\n",
       "  <tbody>\n",
       "    <tr>\n",
       "      <th>0</th>\n",
       "      <td>Hot Tub Time Machine 2</td>\n",
       "      <td>[Steve Pink]</td>\n",
       "      <td>[Andrew Panay]</td>\n",
       "    </tr>\n",
       "    <tr>\n",
       "      <th>1</th>\n",
       "      <td>The Princess Diaries 2: Royal Engagement</td>\n",
       "      <td>[Garry Marshall]</td>\n",
       "      <td>[Whitney Houston, Mario Iscovich, Debra Martin...</td>\n",
       "    </tr>\n",
       "    <tr>\n",
       "      <th>2</th>\n",
       "      <td>Whiplash</td>\n",
       "      <td>[Damien Chazelle]</td>\n",
       "      <td>[David Lancaster, Michel Litvak, Jason Blum, H...</td>\n",
       "    </tr>\n",
       "    <tr>\n",
       "      <th>3</th>\n",
       "      <td>Kahaani</td>\n",
       "      <td>[Sujoy Ghosh]</td>\n",
       "      <td>[Sujoy Ghosh]</td>\n",
       "    </tr>\n",
       "    <tr>\n",
       "      <th>4</th>\n",
       "      <td>Marine Boy</td>\n",
       "      <td>[Jong-seok Yoon]</td>\n",
       "      <td>[]</td>\n",
       "    </tr>\n",
       "    <tr>\n",
       "      <th>...</th>\n",
       "      <td>...</td>\n",
       "      <td>...</td>\n",
       "      <td>...</td>\n",
       "    </tr>\n",
       "    <tr>\n",
       "      <th>2995</th>\n",
       "      <td>Chasers</td>\n",
       "      <td>[Dennis Hopper]</td>\n",
       "      <td>[James G. Robinson]</td>\n",
       "    </tr>\n",
       "    <tr>\n",
       "      <th>2996</th>\n",
       "      <td>We Are the Best!</td>\n",
       "      <td>[Lukas Moodysson]</td>\n",
       "      <td>[Lars J√∂nsson]</td>\n",
       "    </tr>\n",
       "    <tr>\n",
       "      <th>2997</th>\n",
       "      <td>The Long Kiss Goodnight</td>\n",
       "      <td>[Renny Harlin]</td>\n",
       "      <td>[Stephanie Austin, Shane Black, Renny Harlin, ...</td>\n",
       "    </tr>\n",
       "    <tr>\n",
       "      <th>2998</th>\n",
       "      <td>Along Came Polly</td>\n",
       "      <td>[John Hamburg]</td>\n",
       "      <td>[Danny DeVito, Michael Shamberg, Stacey Sher]</td>\n",
       "    </tr>\n",
       "    <tr>\n",
       "      <th>2999</th>\n",
       "      <td>Abduction</td>\n",
       "      <td>[John Singleton]</td>\n",
       "      <td>[Doug Davison, Roy Lee, Ellen Goldsmith-Vein, ...</td>\n",
       "    </tr>\n",
       "  </tbody>\n",
       "</table>\n",
       "<p>2984 rows × 3 columns</p>\n",
       "</div>"
      ],
      "text/plain": [
       "                                         Movie           Director  \\\n",
       "0                       Hot Tub Time Machine 2       [Steve Pink]   \n",
       "1     The Princess Diaries 2: Royal Engagement   [Garry Marshall]   \n",
       "2                                     Whiplash  [Damien Chazelle]   \n",
       "3                                      Kahaani      [Sujoy Ghosh]   \n",
       "4                                   Marine Boy   [Jong-seok Yoon]   \n",
       "...                                        ...                ...   \n",
       "2995                                   Chasers    [Dennis Hopper]   \n",
       "2996                          We Are the Best!  [Lukas Moodysson]   \n",
       "2997                   The Long Kiss Goodnight     [Renny Harlin]   \n",
       "2998                          Along Came Polly     [John Hamburg]   \n",
       "2999                                 Abduction   [John Singleton]   \n",
       "\n",
       "                                               Producer  \n",
       "0                                        [Andrew Panay]  \n",
       "1     [Whitney Houston, Mario Iscovich, Debra Martin...  \n",
       "2     [David Lancaster, Michel Litvak, Jason Blum, H...  \n",
       "3                                         [Sujoy Ghosh]  \n",
       "4                                                    []  \n",
       "...                                                 ...  \n",
       "2995                                [James G. Robinson]  \n",
       "2996                                    [Lars J√∂nsson]  \n",
       "2997  [Stephanie Austin, Shane Black, Renny Harlin, ...  \n",
       "2998      [Danny DeVito, Michael Shamberg, Stacey Sher]  \n",
       "2999  [Doug Davison, Roy Lee, Ellen Goldsmith-Vein, ...  \n",
       "\n",
       "[2984 rows x 3 columns]"
      ]
     },
     "execution_count": 40,
     "metadata": {},
     "output_type": "execute_result"
    }
   ],
   "source": [
    "df_movie_director_producer"
   ]
  },
  {
   "cell_type": "markdown",
   "id": "4f02379b",
   "metadata": {},
   "source": [
    "# 4. Producer and Director of the most profitable movie?"
   ]
  },
  {
   "cell_type": "code",
   "execution_count": 41,
   "id": "dbe28ef4",
   "metadata": {},
   "outputs": [],
   "source": [
    "# Now we have to first change the budget and revenue which are less than 1000 to the median of revenue and budget of movies greater than 1000\n"
   ]
  },
  {
   "cell_type": "code",
   "execution_count": 42,
   "id": "fbb9b8f4",
   "metadata": {},
   "outputs": [],
   "source": [
    "df.loc[df['revenue']<1000,'revenue']=df.loc[df['revenue']>=1000,'revenue'].median()\n",
    "df.loc[df['budget']<1000,'budget']=df.loc[df['budget']>=1000,'budget'].median()"
   ]
  },
  {
   "cell_type": "code",
   "execution_count": 43,
   "id": "7bce9d2f",
   "metadata": {},
   "outputs": [],
   "source": [
    "# Now we will create a column of profit\n",
    "df['profit']=df['revenue']-df['budget']"
   ]
  },
  {
   "cell_type": "code",
   "execution_count": 44,
   "id": "e9e8c49f",
   "metadata": {},
   "outputs": [
    {
     "data": {
      "text/plain": [
       "0        -1685349\n",
       "1        55149435\n",
       "2         9792000\n",
       "3        14800000\n",
       "4       -12526030\n",
       "          ...    \n",
       "2995    -14853313\n",
       "2996    -16269410\n",
       "2997     24456761\n",
       "2998    129963386\n",
       "2999     47087155\n",
       "Name: profit, Length: 3000, dtype: int64"
      ]
     },
     "execution_count": 44,
     "metadata": {},
     "output_type": "execute_result"
    }
   ],
   "source": [
    "df['profit']"
   ]
  },
  {
   "cell_type": "code",
   "execution_count": 45,
   "id": "6c479cc2",
   "metadata": {},
   "outputs": [
    {
     "data": {
      "text/plain": [
       "1761"
      ]
     },
     "execution_count": 45,
     "metadata": {},
     "output_type": "execute_result"
    }
   ],
   "source": [
    "# Gonna find the most profitable movie by max function and then gonna find it's index to extract the producer and director\n",
    "df['profit'].argmax()"
   ]
  },
  {
   "cell_type": "code",
   "execution_count": 46,
   "id": "50f409ab",
   "metadata": {},
   "outputs": [],
   "source": [
    "df.loc[~df['crew'].isna(),'crew']=df.loc[~df['crew'].isna(),'crew'].apply(evaluate)"
   ]
  },
  {
   "cell_type": "code",
   "execution_count": 47,
   "id": "331f4ca7",
   "metadata": {},
   "outputs": [],
   "source": [
    "profitable_movie_director=[]\n",
    "profitable_movie_producer=[]\n",
    "for x in df['crew'][df['profit'].argmax()]:\n",
    "    if x['job']=='Director':\n",
    "        profitable_movie_director.append(x['name'])\n",
    "    if x['job']=='Producer':\n",
    "        profitable_movie_producer.append(x['name'])"
   ]
  },
  {
   "cell_type": "code",
   "execution_count": 48,
   "id": "e7aed835",
   "metadata": {},
   "outputs": [
    {
     "name": "stdout",
     "output_type": "stream",
     "text": [
      "Director and Producer of the most profitable are :\n",
      "Director- ['James Wan']\n",
      "Producer-['Vin Diesel', 'Neal H. Moritz', 'Michael Fottrell', 'Brandon Birtell']\n"
     ]
    }
   ],
   "source": [
    "print(f'Director and Producer of the most profitable are :\\nDirector- {profitable_movie_director}\\nProducer-{profitable_movie_producer}')\n"
   ]
  },
  {
   "cell_type": "markdown",
   "id": "b8ad4e78",
   "metadata": {},
   "source": [
    "# 5.Language of the movie with the max ROI?"
   ]
  },
  {
   "cell_type": "code",
   "execution_count": 49,
   "id": "1f607a1a",
   "metadata": {},
   "outputs": [],
   "source": [
    "#Calculate the max ROI\n",
    "df['ROI']=100*df['profit']/df['budget']"
   ]
  },
  {
   "cell_type": "code",
   "execution_count": 50,
   "id": "93a96dfe",
   "metadata": {},
   "outputs": [
    {
     "data": {
      "text/plain": [
       "1230"
      ]
     },
     "execution_count": 50,
     "metadata": {},
     "output_type": "execute_result"
    }
   ],
   "source": [
    "df['ROI'].argmax()"
   ]
  },
  {
   "cell_type": "code",
   "execution_count": 51,
   "id": "0f3ca4c5",
   "metadata": {},
   "outputs": [
    {
     "name": "stdout",
     "output_type": "stream",
     "text": [
      "The language of the movie with max ROI is en\n"
     ]
    }
   ],
   "source": [
    "print(f\"The language of the movie with max ROI is {df['original_language'][df['ROI'].argmax()]}\")"
   ]
  },
  {
   "cell_type": "markdown",
   "id": "4f06668a",
   "metadata": {},
   "source": [
    "# 6.Top 2 actors with most number of film's movie title and profit of those movies"
   ]
  },
  {
   "cell_type": "code",
   "execution_count": 52,
   "id": "4a6a26ab",
   "metadata": {},
   "outputs": [
    {
     "data": {
      "text/plain": [
       "Actors           \n",
       "Samuel L. Jackson    30\n",
       "Robert De Niro       30\n",
       "dtype: int64"
      ]
     },
     "execution_count": 52,
     "metadata": {},
     "output_type": "execute_result"
    }
   ],
   "source": [
    "# Actor with the number of films with the help of 2nd question\n",
    "actors_df.value_counts()[0:2]"
   ]
  },
  {
   "cell_type": "code",
   "execution_count": 53,
   "id": "ffc60b62",
   "metadata": {},
   "outputs": [
    {
     "name": "stderr",
     "output_type": "stream",
     "text": [
      "<ipython-input-53-e46ec5b42a0a>:1: SettingWithCopyWarning: \n",
      "A value is trying to be set on a copy of a slice from a DataFrame.\n",
      "Try using .loc[row_indexer,col_indexer] = value instead\n",
      "\n",
      "See the caveats in the documentation: https://pandas.pydata.org/pandas-docs/stable/user_guide/indexing.html#returning-a-view-versus-a-copy\n",
      "  cast_df['profit']=cast_df['revenue']-cast_df['budget']\n"
     ]
    }
   ],
   "source": [
    "cast_df['profit']=cast_df['revenue']-cast_df['budget']"
   ]
  },
  {
   "cell_type": "code",
   "execution_count": 54,
   "id": "1c6bad6c",
   "metadata": {},
   "outputs": [],
   "source": [
    "Sameul_jackson_1_movies=[]\n",
    "Sameul_jackson_1_profit=[]\n",
    "Robert_de_niro_2_movies=[]\n",
    "Robert_de_niro_2_profit=[]\n",
    "\n",
    "for index,row in cast_df.iterrows():\n",
    "    for x in cast_df.loc[index,'cast']:\n",
    "        if x['name']=='Samuel L. Jackson':\n",
    "            Sameul_jackson_1_movies.append(cast_df.loc[index,'original_title'])\n",
    "        if x['name']=='Samuel L. Jackson':\n",
    "            Sameul_jackson_1_profit.append(cast_df.loc[index,'profit'])\n",
    "        if x['name']=='Robert De Niro':\n",
    "            Robert_de_niro_2_movies.append(cast_df.loc[index,'original_title'])\n",
    "        if x['name']=='Robert De Niro':\n",
    "            Robert_de_niro_2_profit.append(cast_df.loc[index,'profit'])\n",
    "        \n"
   ]
  },
  {
   "cell_type": "code",
   "execution_count": 55,
   "id": "ac004b7a",
   "metadata": {},
   "outputs": [],
   "source": [
    "Sameul_jackson_1=pd.DataFrame(Sameul_jackson_1_profit,Sameul_jackson_1_movies).reset_index().rename(columns={'index':'Movies',0:'Profit'})\n",
    "Robert_de_niro_2=pd.DataFrame(Robert_de_niro_2_profit,Robert_de_niro_2_movies).reset_index().rename(columns={'index':'Movies',0:'Profit'})"
   ]
  },
  {
   "cell_type": "code",
   "execution_count": 56,
   "id": "7bcaca6d",
   "metadata": {},
   "outputs": [
    {
     "data": {
      "text/html": [
       "<div>\n",
       "<style scoped>\n",
       "    .dataframe tbody tr th:only-of-type {\n",
       "        vertical-align: middle;\n",
       "    }\n",
       "\n",
       "    .dataframe tbody tr th {\n",
       "        vertical-align: top;\n",
       "    }\n",
       "\n",
       "    .dataframe thead th {\n",
       "        text-align: right;\n",
       "    }\n",
       "</style>\n",
       "<table border=\"1\" class=\"dataframe\">\n",
       "  <thead>\n",
       "    <tr style=\"text-align: right;\">\n",
       "      <th></th>\n",
       "      <th>Movies</th>\n",
       "      <th>Profit</th>\n",
       "    </tr>\n",
       "  </thead>\n",
       "  <tbody>\n",
       "    <tr>\n",
       "      <th>0</th>\n",
       "      <td>Changing Lanes</td>\n",
       "      <td>49935764</td>\n",
       "    </tr>\n",
       "    <tr>\n",
       "      <th>1</th>\n",
       "      <td>The Hateful Eight</td>\n",
       "      <td>111760117</td>\n",
       "    </tr>\n",
       "    <tr>\n",
       "      <th>2</th>\n",
       "      <td>Coming to America</td>\n",
       "      <td>249752301</td>\n",
       "    </tr>\n",
       "    <tr>\n",
       "      <th>3</th>\n",
       "      <td>Star Wars: Episode III - Revenge of the Sith</td>\n",
       "      <td>737000000</td>\n",
       "    </tr>\n",
       "    <tr>\n",
       "      <th>4</th>\n",
       "      <td>Meeting Evil</td>\n",
       "      <td>525</td>\n",
       "    </tr>\n",
       "    <tr>\n",
       "      <th>5</th>\n",
       "      <td>The Avengers</td>\n",
       "      <td>1299557910</td>\n",
       "    </tr>\n",
       "    <tr>\n",
       "      <th>6</th>\n",
       "      <td>Jumper</td>\n",
       "      <td>137231186</td>\n",
       "    </tr>\n",
       "    <tr>\n",
       "      <th>7</th>\n",
       "      <td>Shaft</td>\n",
       "      <td>61196498</td>\n",
       "    </tr>\n",
       "    <tr>\n",
       "      <th>8</th>\n",
       "      <td>Snakes on a Plane</td>\n",
       "      <td>29022014</td>\n",
       "    </tr>\n",
       "    <tr>\n",
       "      <th>9</th>\n",
       "      <td>The Man</td>\n",
       "      <td>12382362</td>\n",
       "    </tr>\n",
       "    <tr>\n",
       "      <th>10</th>\n",
       "      <td>RoboCop</td>\n",
       "      <td>122688965</td>\n",
       "    </tr>\n",
       "    <tr>\n",
       "      <th>11</th>\n",
       "      <td>Jurassic Park</td>\n",
       "      <td>857100000</td>\n",
       "    </tr>\n",
       "    <tr>\n",
       "      <th>12</th>\n",
       "      <td>Cell</td>\n",
       "      <td>1133031</td>\n",
       "    </tr>\n",
       "    <tr>\n",
       "      <th>13</th>\n",
       "      <td>Star Wars: Episode II - Attack of the Clones</td>\n",
       "      <td>529398328</td>\n",
       "    </tr>\n",
       "    <tr>\n",
       "      <th>14</th>\n",
       "      <td>Eddie Murphy Raw</td>\n",
       "      <td>50504655</td>\n",
       "    </tr>\n",
       "    <tr>\n",
       "      <th>15</th>\n",
       "      <td>Captain America: The Winter Soldier</td>\n",
       "      <td>544766572</td>\n",
       "    </tr>\n",
       "    <tr>\n",
       "      <th>16</th>\n",
       "      <td>Jackie Brown</td>\n",
       "      <td>27673162</td>\n",
       "    </tr>\n",
       "    <tr>\n",
       "      <th>17</th>\n",
       "      <td>African Cats</td>\n",
       "      <td>15240456</td>\n",
       "    </tr>\n",
       "    <tr>\n",
       "      <th>18</th>\n",
       "      <td>Big Game</td>\n",
       "      <td>-1000000</td>\n",
       "    </tr>\n",
       "    <tr>\n",
       "      <th>19</th>\n",
       "      <td>Black Snake Moan</td>\n",
       "      <td>-4096154</td>\n",
       "    </tr>\n",
       "    <tr>\n",
       "      <th>20</th>\n",
       "      <td>Sea of Love</td>\n",
       "      <td>91879513</td>\n",
       "    </tr>\n",
       "    <tr>\n",
       "      <th>21</th>\n",
       "      <td>Deep Blue Sea</td>\n",
       "      <td>13648228</td>\n",
       "    </tr>\n",
       "    <tr>\n",
       "      <th>22</th>\n",
       "      <td>Basic</td>\n",
       "      <td>-7207439</td>\n",
       "    </tr>\n",
       "    <tr>\n",
       "      <th>23</th>\n",
       "      <td>The Incredibles</td>\n",
       "      <td>539442092</td>\n",
       "    </tr>\n",
       "    <tr>\n",
       "      <th>24</th>\n",
       "      <td>Avengers: Age of Ultron</td>\n",
       "      <td>1125403694</td>\n",
       "    </tr>\n",
       "    <tr>\n",
       "      <th>25</th>\n",
       "      <td>Out of Sight</td>\n",
       "      <td>29745568</td>\n",
       "    </tr>\n",
       "    <tr>\n",
       "      <th>26</th>\n",
       "      <td>Patriot Games</td>\n",
       "      <td>133051587</td>\n",
       "    </tr>\n",
       "    <tr>\n",
       "      <th>27</th>\n",
       "      <td>S.W.A.T.</td>\n",
       "      <td>36643346</td>\n",
       "    </tr>\n",
       "    <tr>\n",
       "      <th>28</th>\n",
       "      <td>Freedomland</td>\n",
       "      <td>-23009372</td>\n",
       "    </tr>\n",
       "    <tr>\n",
       "      <th>29</th>\n",
       "      <td>The Long Kiss Goodnight</td>\n",
       "      <td>24456761</td>\n",
       "    </tr>\n",
       "  </tbody>\n",
       "</table>\n",
       "</div>"
      ],
      "text/plain": [
       "                                          Movies      Profit\n",
       "0                                 Changing Lanes    49935764\n",
       "1                              The Hateful Eight   111760117\n",
       "2                              Coming to America   249752301\n",
       "3   Star Wars: Episode III - Revenge of the Sith   737000000\n",
       "4                                   Meeting Evil         525\n",
       "5                                   The Avengers  1299557910\n",
       "6                                         Jumper   137231186\n",
       "7                                          Shaft    61196498\n",
       "8                              Snakes on a Plane    29022014\n",
       "9                                        The Man    12382362\n",
       "10                                       RoboCop   122688965\n",
       "11                                 Jurassic Park   857100000\n",
       "12                                          Cell     1133031\n",
       "13  Star Wars: Episode II - Attack of the Clones   529398328\n",
       "14                              Eddie Murphy Raw    50504655\n",
       "15           Captain America: The Winter Soldier   544766572\n",
       "16                                  Jackie Brown    27673162\n",
       "17                                  African Cats    15240456\n",
       "18                                      Big Game    -1000000\n",
       "19                              Black Snake Moan    -4096154\n",
       "20                                   Sea of Love    91879513\n",
       "21                                 Deep Blue Sea    13648228\n",
       "22                                         Basic    -7207439\n",
       "23                               The Incredibles   539442092\n",
       "24                       Avengers: Age of Ultron  1125403694\n",
       "25                                  Out of Sight    29745568\n",
       "26                                 Patriot Games   133051587\n",
       "27                                      S.W.A.T.    36643346\n",
       "28                                   Freedomland   -23009372\n",
       "29                       The Long Kiss Goodnight    24456761"
      ]
     },
     "execution_count": 56,
     "metadata": {},
     "output_type": "execute_result"
    }
   ],
   "source": [
    "Sameul_jackson_1"
   ]
  },
  {
   "cell_type": "code",
   "execution_count": 57,
   "id": "28932bdf",
   "metadata": {},
   "outputs": [
    {
     "data": {
      "text/html": [
       "<div>\n",
       "<style scoped>\n",
       "    .dataframe tbody tr th:only-of-type {\n",
       "        vertical-align: middle;\n",
       "    }\n",
       "\n",
       "    .dataframe tbody tr th {\n",
       "        vertical-align: top;\n",
       "    }\n",
       "\n",
       "    .dataframe thead th {\n",
       "        text-align: right;\n",
       "    }\n",
       "</style>\n",
       "<table border=\"1\" class=\"dataframe\">\n",
       "  <thead>\n",
       "    <tr style=\"text-align: right;\">\n",
       "      <th></th>\n",
       "      <th>Movies</th>\n",
       "      <th>Profit</th>\n",
       "    </tr>\n",
       "  </thead>\n",
       "  <tbody>\n",
       "    <tr>\n",
       "      <th>0</th>\n",
       "      <td>This Boy’s Life</td>\n",
       "      <td>4104962</td>\n",
       "    </tr>\n",
       "    <tr>\n",
       "      <th>1</th>\n",
       "      <td>What Just Happened</td>\n",
       "      <td>-18326578</td>\n",
       "    </tr>\n",
       "    <tr>\n",
       "      <th>2</th>\n",
       "      <td>Mad Dog and Glory</td>\n",
       "      <td>11081586</td>\n",
       "    </tr>\n",
       "    <tr>\n",
       "      <th>3</th>\n",
       "      <td>The Good Shepherd</td>\n",
       "      <td>-25091435</td>\n",
       "    </tr>\n",
       "    <tr>\n",
       "      <th>4</th>\n",
       "      <td>Lenny Bruce: Swear to Tell the Truth</td>\n",
       "      <td>21350</td>\n",
       "    </tr>\n",
       "    <tr>\n",
       "      <th>5</th>\n",
       "      <td>Red Lights</td>\n",
       "      <td>-448826</td>\n",
       "    </tr>\n",
       "    <tr>\n",
       "      <th>6</th>\n",
       "      <td>Falling in Love</td>\n",
       "      <td>11129057</td>\n",
       "    </tr>\n",
       "    <tr>\n",
       "      <th>7</th>\n",
       "      <td>Wag the Dog</td>\n",
       "      <td>49256513</td>\n",
       "    </tr>\n",
       "    <tr>\n",
       "      <th>8</th>\n",
       "      <td>Meet the Parents</td>\n",
       "      <td>275444045</td>\n",
       "    </tr>\n",
       "    <tr>\n",
       "      <th>9</th>\n",
       "      <td>Marvin's Room</td>\n",
       "      <td>-10196695</td>\n",
       "    </tr>\n",
       "    <tr>\n",
       "      <th>10</th>\n",
       "      <td>Sleepers</td>\n",
       "      <td>121615285</td>\n",
       "    </tr>\n",
       "    <tr>\n",
       "      <th>11</th>\n",
       "      <td>The Fan</td>\n",
       "      <td>-36373581</td>\n",
       "    </tr>\n",
       "    <tr>\n",
       "      <th>12</th>\n",
       "      <td>The Family</td>\n",
       "      <td>6894225</td>\n",
       "    </tr>\n",
       "    <tr>\n",
       "      <th>13</th>\n",
       "      <td>Stone</td>\n",
       "      <td>-12520282</td>\n",
       "    </tr>\n",
       "    <tr>\n",
       "      <th>14</th>\n",
       "      <td>Being Flynn</td>\n",
       "      <td>540152</td>\n",
       "    </tr>\n",
       "    <tr>\n",
       "      <th>15</th>\n",
       "      <td>Righteous Kill</td>\n",
       "      <td>13174566</td>\n",
       "    </tr>\n",
       "    <tr>\n",
       "      <th>16</th>\n",
       "      <td>American Hustle</td>\n",
       "      <td>211171807</td>\n",
       "    </tr>\n",
       "    <tr>\n",
       "      <th>17</th>\n",
       "      <td>Jackie Brown</td>\n",
       "      <td>27673162</td>\n",
       "    </tr>\n",
       "    <tr>\n",
       "      <th>18</th>\n",
       "      <td>Raging Bull</td>\n",
       "      <td>5000000</td>\n",
       "    </tr>\n",
       "    <tr>\n",
       "      <th>19</th>\n",
       "      <td>Angel Heart</td>\n",
       "      <td>185632</td>\n",
       "    </tr>\n",
       "    <tr>\n",
       "      <th>20</th>\n",
       "      <td>Joy</td>\n",
       "      <td>41134059</td>\n",
       "    </tr>\n",
       "    <tr>\n",
       "      <th>21</th>\n",
       "      <td>The Deer Hunter</td>\n",
       "      <td>35000000</td>\n",
       "    </tr>\n",
       "    <tr>\n",
       "      <th>22</th>\n",
       "      <td>Stanley &amp; Iris</td>\n",
       "      <td>-17179985</td>\n",
       "    </tr>\n",
       "    <tr>\n",
       "      <th>23</th>\n",
       "      <td>Machete</td>\n",
       "      <td>11327899</td>\n",
       "    </tr>\n",
       "    <tr>\n",
       "      <th>24</th>\n",
       "      <td>Mean Streets</td>\n",
       "      <td>2500000</td>\n",
       "    </tr>\n",
       "    <tr>\n",
       "      <th>25</th>\n",
       "      <td>Men of Honor</td>\n",
       "      <td>16814909</td>\n",
       "    </tr>\n",
       "    <tr>\n",
       "      <th>26</th>\n",
       "      <td>Analyze This</td>\n",
       "      <td>96885658</td>\n",
       "    </tr>\n",
       "    <tr>\n",
       "      <th>27</th>\n",
       "      <td>The Bag Man</td>\n",
       "      <td>56574</td>\n",
       "    </tr>\n",
       "    <tr>\n",
       "      <th>28</th>\n",
       "      <td>The Score</td>\n",
       "      <td>3069884</td>\n",
       "    </tr>\n",
       "    <tr>\n",
       "      <th>29</th>\n",
       "      <td>Backdraft</td>\n",
       "      <td>77368585</td>\n",
       "    </tr>\n",
       "  </tbody>\n",
       "</table>\n",
       "</div>"
      ],
      "text/plain": [
       "                                  Movies     Profit\n",
       "0                        This Boy’s Life    4104962\n",
       "1                     What Just Happened  -18326578\n",
       "2                      Mad Dog and Glory   11081586\n",
       "3                      The Good Shepherd  -25091435\n",
       "4   Lenny Bruce: Swear to Tell the Truth      21350\n",
       "5                             Red Lights    -448826\n",
       "6                        Falling in Love   11129057\n",
       "7                            Wag the Dog   49256513\n",
       "8                       Meet the Parents  275444045\n",
       "9                          Marvin's Room  -10196695\n",
       "10                              Sleepers  121615285\n",
       "11                               The Fan  -36373581\n",
       "12                            The Family    6894225\n",
       "13                                 Stone  -12520282\n",
       "14                           Being Flynn     540152\n",
       "15                        Righteous Kill   13174566\n",
       "16                       American Hustle  211171807\n",
       "17                          Jackie Brown   27673162\n",
       "18                           Raging Bull    5000000\n",
       "19                           Angel Heart     185632\n",
       "20                                   Joy   41134059\n",
       "21                       The Deer Hunter   35000000\n",
       "22                        Stanley & Iris  -17179985\n",
       "23                               Machete   11327899\n",
       "24                          Mean Streets    2500000\n",
       "25                          Men of Honor   16814909\n",
       "26                          Analyze This   96885658\n",
       "27                           The Bag Man      56574\n",
       "28                             The Score    3069884\n",
       "29                             Backdraft   77368585"
      ]
     },
     "execution_count": 57,
     "metadata": {},
     "output_type": "execute_result"
    }
   ],
   "source": [
    "Robert_de_niro_2"
   ]
  },
  {
   "cell_type": "code",
   "execution_count": null,
   "id": "49d31782",
   "metadata": {},
   "outputs": [],
   "source": []
  },
  {
   "cell_type": "code",
   "execution_count": null,
   "id": "aec9b384",
   "metadata": {},
   "outputs": [],
   "source": []
  }
 ],
 "metadata": {
  "kernelspec": {
   "display_name": "Python 3",
   "language": "python",
   "name": "python3"
  },
  "language_info": {
   "codemirror_mode": {
    "name": "ipython",
    "version": 3
   },
   "file_extension": ".py",
   "mimetype": "text/x-python",
   "name": "python",
   "nbconvert_exporter": "python",
   "pygments_lexer": "ipython3",
   "version": "3.8.8"
  }
 },
 "nbformat": 4,
 "nbformat_minor": 5
}
