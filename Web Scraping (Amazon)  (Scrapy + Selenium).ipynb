{
 "cells": [
  {
   "cell_type": "code",
   "execution_count": 2,
   "id": "34f6a02e",
   "metadata": {},
   "outputs": [],
   "source": [
    "#Importing necessary libraries for web scraping\n",
    "from selenium import webdriver\n",
    "from selenium.webdriver.common.by import By\n",
    "import time\n",
    "import pandas as pd\n",
    "import scrapy\n",
    "from scrapy.http import TextResponse"
   ]
  },
  {
   "cell_type": "markdown",
   "id": "9d0fe242",
   "metadata": {},
   "source": [
    "# Grabbing all Mobile records with its name,price and rating"
   ]
  },
  {
   "cell_type": "code",
   "execution_count": 3,
   "id": "f532b089",
   "metadata": {},
   "outputs": [
    {
     "name": "stderr",
     "output_type": "stream",
     "text": [
      "Error getting version of chromedriver 115. Retrying with chromedriver 114 (attempt 1/5)\n"
     ]
    }
   ],
   "source": [
    "#Creating empty list in order to feed the scraped data into their respective list\n",
    "\n",
    "page_still_valid=True\n",
    "product_name=[]\n",
    "price=[]\n",
    "rating=[]\n",
    "url='https://www.amazon.in/s?k=Mobile&crid=3J7SZSJTQHBNN&sprefix=mobile%2Caps%2C198&ref=nb_sb_noss_1'\n",
    "\n",
    "#Using while loops in order to perform a certain block of code until the condition is not met\n",
    "while page_still_valid :\n",
    "    browser=webdriver.Chrome() #Using selenium library's webdriver in order to avoid getting blocked by the website\n",
    "    browser.get(url)\n",
    "    browser.maximize_window() #Automating the task of maximizing the window before grabbing it's page source as response\n",
    "    response=TextResponse(browser.current_url,body=browser.page_source,encoding='utf-8')\n",
    "    browser.quit() # Automating the task of closing the window after grabbing it's page source\n",
    "    \n",
    "    #Using error handlling in order to break the loop if a certain ccondition is met\n",
    "    try:\n",
    "        if response.xpath('//a[@class=\"s-pagination-item s-pagination-next s-pagination-button s-pagination-separator\"]').attrib['href'][-1]=='20':\n",
    "            break\n",
    "    except:\n",
    "        break\n",
    "    #Using for loops in order to go through the response in order to grab the product_name,price and rating\n",
    "    for x in response.css('div.sg-row')[3::]:\n",
    "        if x.css('img.s-image::attr(alt)').get()==None:\n",
    "            continue\n",
    "        product_name.append(x.css('img.s-image::attr(alt)').get())\n",
    "        price.append(x.css('span.a-price-whole::text').get())\n",
    "        try:\n",
    "            rating.append(f\"{x.css('span.a-icon-alt::text').get().split()[0]}\")\n",
    "        except:\n",
    "            rating.append('Not rated')\n",
    "    #Grabbing the link for the next page so the above block of code is performed again\n",
    "    a=response.xpath('//a[@class=\"s-pagination-item s-pagination-next s-pagination-button s-pagination-separator\"]').attrib['href']\n",
    "    url=f\"https://www.amazon.in/{a}\""
   ]
  },
  {
   "cell_type": "markdown",
   "id": "e1e17c2a",
   "metadata": {},
   "source": [
    "# DataFrame of Mobile records"
   ]
  },
  {
   "cell_type": "code",
   "execution_count": 4,
   "id": "0eb71995",
   "metadata": {},
   "outputs": [
    {
     "name": "stdout",
     "output_type": "stream",
     "text": [
      "Before dropping duplicates:456\n",
      "After dropping duplicates:270\n"
     ]
    },
    {
     "data": {
      "text/html": [
       "<div>\n",
       "<style scoped>\n",
       "    .dataframe tbody tr th:only-of-type {\n",
       "        vertical-align: middle;\n",
       "    }\n",
       "\n",
       "    .dataframe tbody tr th {\n",
       "        vertical-align: top;\n",
       "    }\n",
       "\n",
       "    .dataframe thead th {\n",
       "        text-align: right;\n",
       "    }\n",
       "</style>\n",
       "<table border=\"1\" class=\"dataframe\">\n",
       "  <thead>\n",
       "    <tr style=\"text-align: right;\">\n",
       "      <th></th>\n",
       "      <th>Product Name</th>\n",
       "      <th>Price</th>\n",
       "      <th>Rating</th>\n",
       "    </tr>\n",
       "  </thead>\n",
       "  <tbody>\n",
       "    <tr>\n",
       "      <th>0</th>\n",
       "      <td>Sponsored Ad - Samsung Galaxy Z Fold5 5G (Ligh...</td>\n",
       "      <td>1,64,999</td>\n",
       "      <td>Not rated</td>\n",
       "    </tr>\n",
       "    <tr>\n",
       "      <th>1</th>\n",
       "      <td>Sponsored Ad - Redmi 12C (Royal Blue, 4GB RAM,...</td>\n",
       "      <td>8,499</td>\n",
       "      <td>3.9</td>\n",
       "    </tr>\n",
       "    <tr>\n",
       "      <th>2</th>\n",
       "      <td>Samsung Galaxy M04 Dark Blue, 4GB RAM, 64GB St...</td>\n",
       "      <td>8,499</td>\n",
       "      <td>3.9</td>\n",
       "    </tr>\n",
       "    <tr>\n",
       "      <th>3</th>\n",
       "      <td>OnePlus Nord 3 5G (Misty Green, 8GB RAM, 128GB...</td>\n",
       "      <td>33,999</td>\n",
       "      <td>3.1</td>\n",
       "    </tr>\n",
       "    <tr>\n",
       "      <th>4</th>\n",
       "      <td>realme narzo 50i Prime (Dark Blue 4GB RAM+64GB...</td>\n",
       "      <td>7,499</td>\n",
       "      <td>4.0</td>\n",
       "    </tr>\n",
       "    <tr>\n",
       "      <th>...</th>\n",
       "      <td>...</td>\n",
       "      <td>...</td>\n",
       "      <td>...</td>\n",
       "    </tr>\n",
       "    <tr>\n",
       "      <th>265</th>\n",
       "      <td>Samsung Galaxy A54 5G (Awesome Lime, 8GB, 256G...</td>\n",
       "      <td>40,999</td>\n",
       "      <td>4.0</td>\n",
       "    </tr>\n",
       "    <tr>\n",
       "      <th>266</th>\n",
       "      <td>Motorola Moto g51 5G (RAM-4GB,sercomtel, Inter...</td>\n",
       "      <td>15,999</td>\n",
       "      <td>3.8</td>\n",
       "    </tr>\n",
       "    <tr>\n",
       "      <th>267</th>\n",
       "      <td>Motorola G62 5G (8GB, 128GB) (Midnight Gray)</td>\n",
       "      <td>None</td>\n",
       "      <td>3.6</td>\n",
       "    </tr>\n",
       "    <tr>\n",
       "      <th>268</th>\n",
       "      <td>Apple iPhone 14 (128 GB) - Purple</td>\n",
       "      <td>69,999</td>\n",
       "      <td>4.5</td>\n",
       "    </tr>\n",
       "    <tr>\n",
       "      <th>269</th>\n",
       "      <td>vivo T2 5G (Velocity Wave, 6GB RAM 128GB Storage)</td>\n",
       "      <td>19,799</td>\n",
       "      <td>5.0</td>\n",
       "    </tr>\n",
       "  </tbody>\n",
       "</table>\n",
       "<p>270 rows × 3 columns</p>\n",
       "</div>"
      ],
      "text/plain": [
       "                                          Product Name     Price     Rating\n",
       "0    Sponsored Ad - Samsung Galaxy Z Fold5 5G (Ligh...  1,64,999  Not rated\n",
       "1    Sponsored Ad - Redmi 12C (Royal Blue, 4GB RAM,...     8,499        3.9\n",
       "2    Samsung Galaxy M04 Dark Blue, 4GB RAM, 64GB St...     8,499        3.9\n",
       "3    OnePlus Nord 3 5G (Misty Green, 8GB RAM, 128GB...    33,999        3.1\n",
       "4    realme narzo 50i Prime (Dark Blue 4GB RAM+64GB...     7,499        4.0\n",
       "..                                                 ...       ...        ...\n",
       "265  Samsung Galaxy A54 5G (Awesome Lime, 8GB, 256G...    40,999        4.0\n",
       "266  Motorola Moto g51 5G (RAM-4GB,sercomtel, Inter...    15,999        3.8\n",
       "267       Motorola G62 5G (8GB, 128GB) (Midnight Gray)      None        3.6\n",
       "268                  Apple iPhone 14 (128 GB) - Purple    69,999        4.5\n",
       "269  vivo T2 5G (Velocity Wave, 6GB RAM 128GB Storage)    19,799        5.0\n",
       "\n",
       "[270 rows x 3 columns]"
      ]
     },
     "execution_count": 4,
     "metadata": {},
     "output_type": "execute_result"
    }
   ],
   "source": [
    "#Using Pandas library to convert the data into presentable format\n",
    "#Also performing drop duplicates to avoid having the same product in the dataframe\n",
    "\n",
    "df=pd.DataFrame(product_name).rename(columns={0:'Product Name'})\n",
    "df['Price']=price\n",
    "df['Rating']=rating\n",
    "print(f'Before dropping duplicates:{len(df)}')\n",
    "df=df.drop_duplicates()\n",
    "print(f'After dropping duplicates:{len(df)}')\n",
    "df=df.reset_index()\n",
    "df=df.drop('index',axis=1)\n",
    "df"
   ]
  },
  {
   "cell_type": "markdown",
   "id": "94795705",
   "metadata": {},
   "source": [
    "# Images of first 5 products on the first page"
   ]
  },
  {
   "cell_type": "code",
   "execution_count": 10,
   "id": "69b76abd",
   "metadata": {},
   "outputs": [
    {
     "name": "stdout",
     "output_type": "stream",
     "text": [
      "<img src=\"https://m.media-amazon.com/images/I/71XwXWxa6QL._AC_UY218_.jpg\" >\n",
      "<img src=\"https://m.media-amazon.com/images/I/81itQPVn-GL._AC_UY218_.jpg\" >\n",
      "<img src=\"https://m.media-amazon.com/images/I/81t6Av5DvXL._AC_UY218_.jpg\" >\n",
      "<img src=\"https://m.media-amazon.com/images/I/6116+vSW+1L._AC_UY218_.jpg\" >\n",
      "<img src=\"https://m.media-amazon.com/images/I/81WPIz1l5wL._AC_UY218_.jpg\" >\n",
      "First 5 Mobile picture on the 1st page\n"
     ]
    }
   ],
   "source": [
    "#Grabbing the page source of the first page to grab the image links of the first five products\n",
    "\n",
    "url=\"https://www.amazon.in/s?k=Mobile&crid=3J7SZSJTQHBNN&sprefix=mobile%2Caps%2C198&ref=nb_sb_noss_1\"\n",
    "browser=webdriver.Chrome()\n",
    "browser.get(url)\n",
    "browser.maximize_window()\n",
    "response=TextResponse(browser.current_url,body=browser.page_source,encoding='utf-8')\n",
    "browser.quit()\n",
    "for x in response.css('img.s-image').xpath('@src')[0:5]:\n",
    "    print(f'<img src=\"{x.get()}\" >')"
   ]
  },
  {
   "cell_type": "markdown",
   "id": "0fd17307",
   "metadata": {},
   "source": [
    "<img src=\"https://m.media-amazon.com/images/I/71XwXWxa6QL._AC_UY218_.jpg\" >\n",
    "<img src=\"https://m.media-amazon.com/images/I/81itQPVn-GL._AC_UY218_.jpg\" >\n",
    "<img src=\"https://m.media-amazon.com/images/I/81t6Av5DvXL._AC_UY218_.jpg\" >\n",
    "<img src=\"https://m.media-amazon.com/images/I/81WPIz1l5wL._AC_UY218_.jpg\" >\n",
    "<img src=\"https://m.media-amazon.com/images/I/814ePfNubRL._AC_UY218_.jpg\" >"
   ]
  },
  {
   "cell_type": "markdown",
   "id": "697a0c83",
   "metadata": {},
   "source": [
    "# Grabbing all laptop records with its name,price and rating"
   ]
  },
  {
   "cell_type": "code",
   "execution_count": 11,
   "id": "f8c19636",
   "metadata": {},
   "outputs": [],
   "source": [
    "#Creating empty list in order to feed the scraped data into their respective list\n",
    "\n",
    "page_still_valid=True\n",
    "product_name=[]\n",
    "price=[]\n",
    "rating=[]\n",
    "url='https://www.amazon.in/s?k=laptop&i=todays-deals&crid=8G7X2NXAK04T&sprefix=laptop%2Ctodays-deals%2C293&ref=nb_sb_noss_1'\n",
    "\n",
    "#Using while loops in order to perform a certain block of code until the condition is not met\n",
    "while page_still_valid :\n",
    "    browser=webdriver.Chrome()  #Using selenium library's webdriver in order to avoid getting blocked by the website\n",
    "    browser.get(url)\n",
    "    browser.maximize_window()  #Automating the task of maximizing the window before grabbing it's page source as response\n",
    "    response=TextResponse(browser.current_url,body=browser.page_source,encoding='utf-8')\n",
    "    browser.quit()    #Automating the task of closing the window after grabbing it's page source as response\n",
    "    try:\n",
    "        if response.xpath('//a[@class=\"s-pagination-item s-pagination-next s-pagination-button s-pagination-separator\"]').attrib['href'][-1]=='30':\n",
    "            break\n",
    "    except:\n",
    "        break\n",
    "        \n",
    "    #Using for loops in order to go through the response in order to grab the product_name,price and rating\n",
    "    for x in response.css('div.sg-row')[3::]:\n",
    "        if x.css('img.s-image::attr(alt)').get()==None:\n",
    "            continue\n",
    "        product_name.append(x.css('img.s-image::attr(alt)').get())\n",
    "        price.append(x.css('span.a-price-whole::text').get())\n",
    "        try:\n",
    "            rating.append(f\"{x.css('span.a-icon-alt::text').get().split()[0]}\")\n",
    "        except:\n",
    "            rating.append('Not rated')\n",
    "    #Grabbing the link for the next page so the above block of code is performed again\n",
    "    a=response.xpath('//a[@class=\"s-pagination-item s-pagination-next s-pagination-button s-pagination-separator\"]').attrib['href']\n",
    "    url=f\"https://www.amazon.in/{a}\""
   ]
  },
  {
   "cell_type": "markdown",
   "id": "3b1714be",
   "metadata": {},
   "source": [
    "# DataFrame for laptop records"
   ]
  },
  {
   "cell_type": "code",
   "execution_count": 12,
   "id": "98dee542",
   "metadata": {},
   "outputs": [
    {
     "name": "stdout",
     "output_type": "stream",
     "text": [
      "Before dropping duplicates:478\n",
      "After dropping duplicates:287\n"
     ]
    },
    {
     "data": {
      "text/html": [
       "<div>\n",
       "<style scoped>\n",
       "    .dataframe tbody tr th:only-of-type {\n",
       "        vertical-align: middle;\n",
       "    }\n",
       "\n",
       "    .dataframe tbody tr th {\n",
       "        vertical-align: top;\n",
       "    }\n",
       "\n",
       "    .dataframe thead th {\n",
       "        text-align: right;\n",
       "    }\n",
       "</style>\n",
       "<table border=\"1\" class=\"dataframe\">\n",
       "  <thead>\n",
       "    <tr style=\"text-align: right;\">\n",
       "      <th></th>\n",
       "      <th>Product Name</th>\n",
       "      <th>Price</th>\n",
       "      <th>Rating</th>\n",
       "    </tr>\n",
       "  </thead>\n",
       "  <tbody>\n",
       "    <tr>\n",
       "      <th>0</th>\n",
       "      <td>Sponsored Ad - HP ZBook Firefly 12th Gen Intel...</td>\n",
       "      <td>1,57,330</td>\n",
       "      <td>Not rated</td>\n",
       "    </tr>\n",
       "    <tr>\n",
       "      <th>1</th>\n",
       "      <td>Sponsored Ad - HP ZBook Firefly 12th Gen Intel...</td>\n",
       "      <td>1,39,261</td>\n",
       "      <td>Not rated</td>\n",
       "    </tr>\n",
       "    <tr>\n",
       "      <th>2</th>\n",
       "      <td>(Renewed) Lenovo ThinkPad T470 7th Gen Intel C...</td>\n",
       "      <td>18,849</td>\n",
       "      <td>4.0</td>\n",
       "    </tr>\n",
       "    <tr>\n",
       "      <th>3</th>\n",
       "      <td>HP Laptop 15s, 12th Gen Intel Core i3-1215U, 1...</td>\n",
       "      <td>41,990</td>\n",
       "      <td>4.1</td>\n",
       "    </tr>\n",
       "    <tr>\n",
       "      <th>4</th>\n",
       "      <td>Dell Inspiron 5430 13th Gen Laptop, Intel i7-1...</td>\n",
       "      <td>86,420</td>\n",
       "      <td>2.4</td>\n",
       "    </tr>\n",
       "    <tr>\n",
       "      <th>...</th>\n",
       "      <td>...</td>\n",
       "      <td>...</td>\n",
       "      <td>...</td>\n",
       "    </tr>\n",
       "    <tr>\n",
       "      <th>282</th>\n",
       "      <td>(Renewed) DELL Latitude 5490 Core i5 7th Gen L...</td>\n",
       "      <td>24,899</td>\n",
       "      <td>3.5</td>\n",
       "    </tr>\n",
       "    <tr>\n",
       "      <th>283</th>\n",
       "      <td>Samsung Galaxy Book3 360 Intel 13th Gen i5 Evo...</td>\n",
       "      <td>1,14,990</td>\n",
       "      <td>3.6</td>\n",
       "    </tr>\n",
       "    <tr>\n",
       "      <th>284</th>\n",
       "      <td>ASUS Vivobook Pro 15 OLED, AMD Ryzen 5 5600H, ...</td>\n",
       "      <td>72,990</td>\n",
       "      <td>4.5</td>\n",
       "    </tr>\n",
       "    <tr>\n",
       "      <th>285</th>\n",
       "      <td>HP Pavilion Aero AMD Ryzen 7 7735U 13.3 inch(3...</td>\n",
       "      <td>78,379</td>\n",
       "      <td>5.0</td>\n",
       "    </tr>\n",
       "    <tr>\n",
       "      <th>286</th>\n",
       "      <td>ASUS Vivobook S 14 Flip (2023), AMD Ryzen 5 75...</td>\n",
       "      <td>64,990</td>\n",
       "      <td>3.3</td>\n",
       "    </tr>\n",
       "  </tbody>\n",
       "</table>\n",
       "<p>287 rows × 3 columns</p>\n",
       "</div>"
      ],
      "text/plain": [
       "                                          Product Name     Price     Rating\n",
       "0    Sponsored Ad - HP ZBook Firefly 12th Gen Intel...  1,57,330  Not rated\n",
       "1    Sponsored Ad - HP ZBook Firefly 12th Gen Intel...  1,39,261  Not rated\n",
       "2    (Renewed) Lenovo ThinkPad T470 7th Gen Intel C...    18,849        4.0\n",
       "3    HP Laptop 15s, 12th Gen Intel Core i3-1215U, 1...    41,990        4.1\n",
       "4    Dell Inspiron 5430 13th Gen Laptop, Intel i7-1...    86,420        2.4\n",
       "..                                                 ...       ...        ...\n",
       "282  (Renewed) DELL Latitude 5490 Core i5 7th Gen L...    24,899        3.5\n",
       "283  Samsung Galaxy Book3 360 Intel 13th Gen i5 Evo...  1,14,990        3.6\n",
       "284  ASUS Vivobook Pro 15 OLED, AMD Ryzen 5 5600H, ...    72,990        4.5\n",
       "285  HP Pavilion Aero AMD Ryzen 7 7735U 13.3 inch(3...    78,379        5.0\n",
       "286  ASUS Vivobook S 14 Flip (2023), AMD Ryzen 5 75...    64,990        3.3\n",
       "\n",
       "[287 rows x 3 columns]"
      ]
     },
     "execution_count": 12,
     "metadata": {},
     "output_type": "execute_result"
    }
   ],
   "source": [
    "#Using Pandas library to convert the data into presentable format\n",
    "#Also performing drop duplicates to avoid having the same product in the dataframe\n",
    "\n",
    "df=pd.DataFrame(product_name).rename(columns={0:'Product Name'})\n",
    "df['Price']=price\n",
    "df['Rating']=rating\n",
    "print(f'Before dropping duplicates:{len(df)}')\n",
    "df=df.drop_duplicates()\n",
    "print(f'After dropping duplicates:{len(df)}')\n",
    "df=df.reset_index()\n",
    "df=df.drop('index',axis=1)\n",
    "df"
   ]
  },
  {
   "cell_type": "markdown",
   "id": "61f82ff2",
   "metadata": {},
   "source": [
    "# Images of first 5 products on the first page"
   ]
  },
  {
   "cell_type": "code",
   "execution_count": 13,
   "id": "640d9787",
   "metadata": {},
   "outputs": [
    {
     "name": "stdout",
     "output_type": "stream",
     "text": [
      "<img src=\"https://m.media-amazon.com/images/I/81amk0DO-QL._AC_UY218_.jpg\" >\n",
      "<img src=\"https://m.media-amazon.com/images/I/81saFttNthL._AC_UY218_.jpg\" >\n",
      "<img src=\"https://m.media-amazon.com/images/I/51D-0rsJ-HL._AC_UY218_.jpg\" >\n",
      "<img src=\"https://m.media-amazon.com/images/I/71Blj59DzzL._AC_UY218_.jpg\" >\n",
      "<img src=\"https://m.media-amazon.com/images/I/51+G2lamGCL._AC_UY218_.jpg\" >\n"
     ]
    }
   ],
   "source": [
    "#Grabbing the page source of the first page to grab the image links of the first five products\n",
    "\n",
    "url=\"https://www.amazon.in/s?k=laptop&i=todays-deals&crid=8G7X2NXAK04T&sprefix=laptop%2Ctodays-deals%2C293&ref=nb_sb_noss_1\"\n",
    "browser=webdriver.Chrome()\n",
    "browser.get(url)\n",
    "browser.maximize_window()\n",
    "response=TextResponse(browser.current_url,body=browser.page_source,encoding='utf-8')\n",
    "browser.quit()\n",
    "for x in response.css('img.s-image').xpath('@src')[0:5]:\n",
    "    print(f'<img src=\"{x.get()}\" >')"
   ]
  },
  {
   "cell_type": "markdown",
   "id": "8a698d9c",
   "metadata": {},
   "source": [
    "<img src=\"https://m.media-amazon.com/images/I/81amk0DO-QL._AC_UY218_.jpg\" >\n",
    "<img src=\"https://m.media-amazon.com/images/I/81saFttNthL._AC_UY218_.jpg\" >\n",
    "<img src=\"https://m.media-amazon.com/images/I/51D-0rsJ-HL._AC_UY218_.jpg\" >\n",
    "<img src=\"https://m.media-amazon.com/images/I/71Blj59DzzL._AC_UY218_.jpg\" >\n",
    "<img src=\"https://m.media-amazon.com/images/I/51+G2lamGCL._AC_UY218_.jpg\" >"
   ]
  },
  {
   "cell_type": "code",
   "execution_count": null,
   "id": "de90e72c",
   "metadata": {},
   "outputs": [],
   "source": []
  }
 ],
 "metadata": {
  "kernelspec": {
   "display_name": "Python 3",
   "language": "python",
   "name": "python3"
  },
  "language_info": {
   "codemirror_mode": {
    "name": "ipython",
    "version": 3
   },
   "file_extension": ".py",
   "mimetype": "text/x-python",
   "name": "python",
   "nbconvert_exporter": "python",
   "pygments_lexer": "ipython3",
   "version": "3.8.8"
  }
 },
 "nbformat": 4,
 "nbformat_minor": 5
}
